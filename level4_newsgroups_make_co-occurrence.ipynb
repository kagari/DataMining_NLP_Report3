{
 "cells": [
  {
   "cell_type": "markdown",
   "metadata": {},
   "source": [
    "# Level4. 共起行列で文書の分類をする"
   ]
  },
  {
   "cell_type": "code",
   "execution_count": 1,
   "metadata": {},
   "outputs": [
    {
     "name": "stderr",
     "output_type": "stream",
     "text": [
      "/usr/local/var/pyenv/versions/3.7.4/lib/python3.7/site-packages/pandas/compat/__init__.py:85: UserWarning: Could not import the lzma module. Your installed Python is incomplete. Attempting to use lzma compression will result in a RuntimeError.\n",
      "  warnings.warn(msg)\n",
      "/usr/local/var/pyenv/versions/3.7.4/lib/python3.7/site-packages/pandas/compat/__init__.py:85: UserWarning: Could not import the lzma module. Your installed Python is incomplete. Attempting to use lzma compression will result in a RuntimeError.\n",
      "  warnings.warn(msg)\n"
     ]
    }
   ],
   "source": [
    "from datetime import datetime as dt\n",
    "from pprint import pprint\n",
    "\n",
    "import sys\n",
    "import numpy as np\n",
    "import pandas as pd\n",
    "import seaborn as sns\n",
    "import matplotlib.pyplot as plt\n",
    "import re\n",
    "\n",
    "from matplotlib import rcParams\n",
    "rcParams['font.family'] = 'sans-serif'\n",
    "rcParams['font.sans-serif'] = ['Hiragino Maru Gothic Pro', 'Yu Gothic', 'Meirio', 'Takao', 'IPAexGothic', 'IPAPGothic', 'VL PGothic', 'Noto Sans CJK JP']"
   ]
  },
  {
   "cell_type": "markdown",
   "metadata": {},
   "source": [
    "### データの取得"
   ]
  },
  {
   "cell_type": "markdown",
   "metadata": {},
   "source": [
    "ターゲットを以下のカテゴリに絞る"
   ]
  },
  {
   "cell_type": "code",
   "execution_count": 2,
   "metadata": {},
   "outputs": [],
   "source": [
    "target_categories = ['alt.atheism',\n",
    "#  'comp.graphics',\n",
    "#  'comp.os.ms-windows.misc',\n",
    "#  'comp.sys.ibm.pc.hardware',\n",
    "#  'comp.sys.mac.hardware',\n",
    "#  'comp.windows.x',\n",
    "#  'misc.forsale',\n",
    "#  'rec.autos',\n",
    "#  'rec.motorcycles',\n",
    "#  'rec.sport.baseball',\n",
    "#  'rec.sport.hockey',\n",
    "#  'sci.crypt',\n",
    "#  'sci.electronics',\n",
    "#  'sci.med',\n",
    "#  'sci.space',\n",
    "#  'soc.religion.christian',\n",
    "#  'talk.politics.guns',\n",
    "#  'talk.politics.mideast',\n",
    "#  'talk.politics.misc',\n",
    " 'talk.religion.misc']"
   ]
  },
  {
   "cell_type": "markdown",
   "metadata": {},
   "source": [
    "データをカテゴリを絞って取得する"
   ]
  },
  {
   "cell_type": "code",
   "execution_count": 3,
   "metadata": {},
   "outputs": [],
   "source": [
    "from sklearn.datasets import fetch_20newsgroups\n",
    "newsgroups_train = fetch_20newsgroups(subset='train', categories=target_categories)\n",
    "newsgroups_test = fetch_20newsgroups(subset='test', categories=target_categories)"
   ]
  },
  {
   "cell_type": "code",
   "execution_count": 4,
   "metadata": {},
   "outputs": [
    {
     "name": "stdout",
     "output_type": "stream",
     "text": [
      "True\n",
      "True\n"
     ]
    }
   ],
   "source": [
    "print(newsgroups_train.target_names == target_categories)\n",
    "print(newsgroups_test.target_names == target_categories)"
   ]
  },
  {
   "cell_type": "markdown",
   "metadata": {},
   "source": [
    "データが同じカテゴリにしたがっていることが確認できた"
   ]
  },
  {
   "cell_type": "markdown",
   "metadata": {},
   "source": [
    "### データを確認する"
   ]
  },
  {
   "cell_type": "code",
   "execution_count": 5,
   "metadata": {},
   "outputs": [
    {
     "name": "stdout",
     "output_type": "stream",
     "text": [
      "train data count: 857\n",
      " test data count: 570\n",
      "比率: 1.5035087719298246\n"
     ]
    }
   ],
   "source": [
    "print(\"train data count:\", len(newsgroups_train.data))\n",
    "print(\" test data count:\", len(newsgroups_test.data))\n",
    "print(\"比率:\", len(newsgroups_train.data)/len(newsgroups_test.data))"
   ]
  },
  {
   "cell_type": "markdown",
   "metadata": {},
   "source": [
    "学習データのデータ数は11314個。  \n",
    "訓練データのデータ数は7532個。  \n",
    "1.5倍くらい。まぁいい感じ？（train:test = 3:2）"
   ]
  },
  {
   "cell_type": "code",
   "execution_count": 6,
   "metadata": {},
   "outputs": [
    {
     "name": "stdout",
     "output_type": "stream",
     "text": [
      "========== データ ==========\n",
      "From: MANDTBACKA@FINABO.ABO.FI (Mats Andtbacka)\n",
      "Subject: Re: An Anecdote about Islam\n",
      "In-Reply-To: jaeger@buphy.bu.edu's message of 5 Apr 93 16:49:14 GMT\n",
      "Organization: Unorganized Usenet Postings UnInc.\n",
      "X-News-Reader: VMS NEWS 1.24\n",
      "Lines: 24\n",
      "\n",
      "In <114127@bu.edu> jaeger@buphy.bu.edu writes:\n",
      "\n",
      "[deletia]\n",
      "\n",
      "> I don't understand the point of this petty sarcasm. It is a basic \n",
      "> principle of Islam that if one is born muslim or one says \"I testify\n",
      "> that there is no god but God and Mohammad is a prophet of God\" that,\n",
      "> so long as one does not explicitly reject Islam by word then one _must_\n",
      "> be considered muslim by all muslims. So the phenomenon you're attempting\n",
      "> to make into a general rule or psychology is a direct odds with basic\n",
      "> Islamic principles. If you want to attack Islam you could do better than\n",
      "> than to argue against something that Islam explicitly contradicts.\n",
      "\n",
      "      In the deletions somewhere, it mentioned something about chopping\n",
      "off of hands being a punishment for theft in Saudi Arabia. Assuming this\n",
      "is so (I wouldn't know), and assuming it is done by people fitting your\n",
      "requirement for \"muslim\" (which I find highly likely), then would you\n",
      "please try to convince Bobby Mozumder that muslims chop people's hands\n",
      "off?\n",
      "\n",
      "      Come back when you've succeeded.\n",
      "\n",
      "-- \n",
      "  Disclaimer?   \"It's great to be young and insane!\"\n",
      "\n",
      "========== カテゴリ ==========\n",
      "0 alt.atheism\n"
     ]
    }
   ],
   "source": [
    "idx = 2\n",
    "print(\"=\"*10, \"データ\", \"=\"*10)\n",
    "print(newsgroups_train.data[idx])\n",
    "print(\"=\"*10, \"カテゴリ\", \"=\"*10)\n",
    "print(newsgroups_train.target[idx], newsgroups_train.target_names[newsgroups_train.target[idx]])"
   ]
  },
  {
   "cell_type": "markdown",
   "metadata": {},
   "source": [
    "んー、newsgroupってなってるからもっとニュースっぽいのかなと思ったけど、結構難しいな...\n",
    "\n",
    "> ユーズネット(Usenet)ともいう。電子掲示板に出されたメッセージのこと。各掲示板にはテーマがあり、考えられる限りのトピックに関する何万というニュースグループがある。  \n",
    "> https://www.weblio.jp/content/newsgroup\n",
    "\n",
    "なるほど！そもそも俺が考えていたニュースとは違うのかw"
   ]
  },
  {
   "cell_type": "markdown",
   "metadata": {},
   "source": [
    "## 共起行列で分類してみる"
   ]
  },
  {
   "cell_type": "markdown",
   "metadata": {},
   "source": [
    "- 全ての文書に入っている単語からcodebookを作成\n",
    "- codebookにある単語のみから共起行列を作成"
   ]
  },
  {
   "cell_type": "code",
   "execution_count": 7,
   "metadata": {},
   "outputs": [],
   "source": [
    "from nltk.tokenize import wordpunct_tokenize, sent_tokenize\n",
    "\n",
    "import nltk\n",
    "import sklearn.feature_extraction.text as fe_text"
   ]
  },
  {
   "cell_type": "code",
   "execution_count": 8,
   "metadata": {},
   "outputs": [],
   "source": [
    "stopwords = nltk.corpus.stopwords.words('english')\n",
    "stopwords.append('.')   # ピリオドを追加。\n",
    "stopwords.append(',')   # カンマを追加。\n",
    "stopwords.append('')"
   ]
  },
  {
   "cell_type": "code",
   "execution_count": 9,
   "metadata": {},
   "outputs": [],
   "source": [
    "def preprocess(text):\n",
    "    \"\"\"テキストに対する前処理。\n",
    "    「ゼロから作るDeepLearning2 自然言語処理辺」p.66より。\n",
    "\n",
    "    :param text:\n",
    "    :return:\n",
    "      courpus(list): id_to_wordのidに基づいたone-hot vector。\n",
    "      word_to_id(dict): 単語をkeyとして、idを参照する辞書。\n",
    "      id_to_word(dict): idをkeyとして、単語を参照する辞書。\n",
    "    \"\"\"\n",
    "    text = text.lower()\n",
    "    text = text.replace('.', ' .')\n",
    "    text = text.replace('\"', '')\n",
    "    words = text.split(' ')\n",
    "\n",
    "    word_to_id = {}\n",
    "    id_to_word = {}\n",
    "    for word in words:\n",
    "        if word not in word_to_id:\n",
    "            new_id = len(word_to_id)\n",
    "            word_to_id[word] = new_id\n",
    "            id_to_word[new_id] = word\n",
    "    corpus = np.array([word_to_id[w] for w in words])\n",
    "    return corpus, word_to_id, id_to_word"
   ]
  },
  {
   "cell_type": "code",
   "execution_count": 10,
   "metadata": {},
   "outputs": [
    {
     "data": {
      "text/plain": [
       "'From: mangoe@cs.umd.edu (Charley Wingate) Subject: Benediktine Metaphysics Lines: 24  Benedikt Rosenau writes, with great authority:  >     IF IT IS CONTRADICTORY IT CANNOT EXIST.  \"Contradictory\" is a property of language.  If I correct this to         THINGS DEFINED BY CONTRADICTORY LANGUAGE DO NOT EXIST  I will object to definitions as reality.  If you then amend it to        THINGS DESCRIBED BY CONTRADICTORY LANGUAGE DO NOT EXIST  then we\\'ve come to something which is plainly false.  Failure'"
      ]
     },
     "execution_count": 10,
     "metadata": {},
     "output_type": "execute_result"
    }
   ],
   "source": [
    "docs_all_str = \" \".join(map(lambda x: \" \".join(x.split('\\n')), newsgroups_train.data))\n",
    "docs_all_str[:500]"
   ]
  },
  {
   "cell_type": "code",
   "execution_count": 11,
   "metadata": {
    "scrolled": true
   },
   "outputs": [],
   "source": [
    "corpus, word_to_id, id_to_word = preprocess(docs_all_str)\n",
    "vocab_size = len(word_to_id)\n",
    "# print(corpus)\n",
    "# print(word_to_id)\n",
    "# print(id_to_word)"
   ]
  },
  {
   "cell_type": "code",
   "execution_count": 12,
   "metadata": {},
   "outputs": [],
   "source": [
    "def create_co_matrix(corpus, vocab_size, window_size=1):\n",
    "    \"\"\"共起行列を作成。\n",
    "    「ゼロから作るDeepLearning2 自然言語処理辺」p.72より。\n",
    "\n",
    "    :param corpus(str): テキスト文。\n",
    "    :param vocab_size: 語彙数。\n",
    "    :param window_size: 共起判定の範囲。\n",
    "    :return:\n",
    "    \"\"\"\n",
    "    start = dt.now()\n",
    "    \n",
    "    corpus_size = len(corpus)\n",
    "    co_matrix = np.zeros((vocab_size, vocab_size), dtype=np.int32)\n",
    "    \n",
    "    for idx, word_id in enumerate(corpus):\n",
    "        for i in range(1, window_size+1):\n",
    "            left_idx = idx - i\n",
    "            right_idx = idx + i\n",
    "            if left_idx >= 0:\n",
    "                left_word_id = corpus[left_idx]\n",
    "                co_matrix[word_id, left_word_id] += 1\n",
    "            if right_idx < corpus_size:\n",
    "                right_word_id = corpus[right_idx]\n",
    "                co_matrix[word_id, right_word_id] += 1\n",
    "        print(\"\\r{:.4f}% : {}\".format((idx+1)/corpus_size, dt.now()-start), end=\"\")\n",
    "    print(\"\")\n",
    "    return co_matrix"
   ]
  },
  {
   "cell_type": "code",
   "execution_count": 13,
   "metadata": {},
   "outputs": [
    {
     "name": "stdout",
     "output_type": "stream",
     "text": [
      "1.0000% : 0:00:49.802085\n"
     ]
    },
    {
     "data": {
      "text/html": [
       "<div>\n",
       "<style scoped>\n",
       "    .dataframe tbody tr th:only-of-type {\n",
       "        vertical-align: middle;\n",
       "    }\n",
       "\n",
       "    .dataframe tbody tr th {\n",
       "        vertical-align: top;\n",
       "    }\n",
       "\n",
       "    .dataframe thead th {\n",
       "        text-align: right;\n",
       "    }\n",
       "</style>\n",
       "<table border=\"1\" class=\"dataframe\">\n",
       "  <thead>\n",
       "    <tr style=\"text-align: right;\">\n",
       "      <th></th>\n",
       "      <th>from:</th>\n",
       "      <th>mangoe@cs</th>\n",
       "      <th>.umd</th>\n",
       "      <th>.edu</th>\n",
       "      <th>(charley</th>\n",
       "      <th>wingate)</th>\n",
       "      <th>subject:</th>\n",
       "      <th>benediktine</th>\n",
       "      <th>metaphysics</th>\n",
       "      <th>lines:</th>\n",
       "      <th>...</th>\n",
       "      <th>&gt;point?</th>\n",
       "      <th>eveil</th>\n",
       "      <th>counterproductive</th>\n",
       "      <th>bacause</th>\n",
       "      <th>don'</th>\n",
       "      <th>failing</th>\n",
       "      <th>agaist</th>\n",
       "      <th>attacks,</th>\n",
       "      <th>do?!</th>\n",
       "      <th>messgae</th>\n",
       "    </tr>\n",
       "  </thead>\n",
       "  <tbody>\n",
       "    <tr>\n",
       "      <th>from:</th>\n",
       "      <td>0</td>\n",
       "      <td>10</td>\n",
       "      <td>11</td>\n",
       "      <td>24</td>\n",
       "      <td>0</td>\n",
       "      <td>0</td>\n",
       "      <td>1</td>\n",
       "      <td>0</td>\n",
       "      <td>0</td>\n",
       "      <td>1</td>\n",
       "      <td>...</td>\n",
       "      <td>0</td>\n",
       "      <td>0</td>\n",
       "      <td>0</td>\n",
       "      <td>0</td>\n",
       "      <td>0</td>\n",
       "      <td>0</td>\n",
       "      <td>0</td>\n",
       "      <td>0</td>\n",
       "      <td>0</td>\n",
       "      <td>0</td>\n",
       "    </tr>\n",
       "    <tr>\n",
       "      <th>mangoe@cs</th>\n",
       "      <td>10</td>\n",
       "      <td>0</td>\n",
       "      <td>51</td>\n",
       "      <td>36</td>\n",
       "      <td>0</td>\n",
       "      <td>0</td>\n",
       "      <td>0</td>\n",
       "      <td>0</td>\n",
       "      <td>0</td>\n",
       "      <td>0</td>\n",
       "      <td>...</td>\n",
       "      <td>0</td>\n",
       "      <td>0</td>\n",
       "      <td>0</td>\n",
       "      <td>0</td>\n",
       "      <td>0</td>\n",
       "      <td>0</td>\n",
       "      <td>0</td>\n",
       "      <td>0</td>\n",
       "      <td>0</td>\n",
       "      <td>0</td>\n",
       "    </tr>\n",
       "    <tr>\n",
       "      <th>.umd</th>\n",
       "      <td>11</td>\n",
       "      <td>51</td>\n",
       "      <td>0</td>\n",
       "      <td>57</td>\n",
       "      <td>26</td>\n",
       "      <td>0</td>\n",
       "      <td>0</td>\n",
       "      <td>0</td>\n",
       "      <td>0</td>\n",
       "      <td>0</td>\n",
       "      <td>...</td>\n",
       "      <td>0</td>\n",
       "      <td>0</td>\n",
       "      <td>0</td>\n",
       "      <td>0</td>\n",
       "      <td>0</td>\n",
       "      <td>0</td>\n",
       "      <td>0</td>\n",
       "      <td>0</td>\n",
       "      <td>0</td>\n",
       "      <td>0</td>\n",
       "    </tr>\n",
       "    <tr>\n",
       "      <th>.edu</th>\n",
       "      <td>24</td>\n",
       "      <td>36</td>\n",
       "      <td>57</td>\n",
       "      <td>4</td>\n",
       "      <td>26</td>\n",
       "      <td>26</td>\n",
       "      <td>28</td>\n",
       "      <td>0</td>\n",
       "      <td>0</td>\n",
       "      <td>21</td>\n",
       "      <td>...</td>\n",
       "      <td>0</td>\n",
       "      <td>0</td>\n",
       "      <td>0</td>\n",
       "      <td>0</td>\n",
       "      <td>0</td>\n",
       "      <td>0</td>\n",
       "      <td>0</td>\n",
       "      <td>0</td>\n",
       "      <td>0</td>\n",
       "      <td>0</td>\n",
       "    </tr>\n",
       "    <tr>\n",
       "      <th>(charley</th>\n",
       "      <td>0</td>\n",
       "      <td>0</td>\n",
       "      <td>26</td>\n",
       "      <td>26</td>\n",
       "      <td>0</td>\n",
       "      <td>26</td>\n",
       "      <td>10</td>\n",
       "      <td>0</td>\n",
       "      <td>0</td>\n",
       "      <td>0</td>\n",
       "      <td>...</td>\n",
       "      <td>0</td>\n",
       "      <td>0</td>\n",
       "      <td>0</td>\n",
       "      <td>0</td>\n",
       "      <td>0</td>\n",
       "      <td>0</td>\n",
       "      <td>0</td>\n",
       "      <td>0</td>\n",
       "      <td>0</td>\n",
       "      <td>0</td>\n",
       "    </tr>\n",
       "    <tr>\n",
       "      <th>...</th>\n",
       "      <td>...</td>\n",
       "      <td>...</td>\n",
       "      <td>...</td>\n",
       "      <td>...</td>\n",
       "      <td>...</td>\n",
       "      <td>...</td>\n",
       "      <td>...</td>\n",
       "      <td>...</td>\n",
       "      <td>...</td>\n",
       "      <td>...</td>\n",
       "      <td>...</td>\n",
       "      <td>...</td>\n",
       "      <td>...</td>\n",
       "      <td>...</td>\n",
       "      <td>...</td>\n",
       "      <td>...</td>\n",
       "      <td>...</td>\n",
       "      <td>...</td>\n",
       "      <td>...</td>\n",
       "      <td>...</td>\n",
       "      <td>...</td>\n",
       "    </tr>\n",
       "    <tr>\n",
       "      <th>failing</th>\n",
       "      <td>0</td>\n",
       "      <td>0</td>\n",
       "      <td>0</td>\n",
       "      <td>0</td>\n",
       "      <td>0</td>\n",
       "      <td>0</td>\n",
       "      <td>0</td>\n",
       "      <td>0</td>\n",
       "      <td>0</td>\n",
       "      <td>0</td>\n",
       "      <td>...</td>\n",
       "      <td>0</td>\n",
       "      <td>0</td>\n",
       "      <td>0</td>\n",
       "      <td>0</td>\n",
       "      <td>0</td>\n",
       "      <td>0</td>\n",
       "      <td>0</td>\n",
       "      <td>0</td>\n",
       "      <td>0</td>\n",
       "      <td>0</td>\n",
       "    </tr>\n",
       "    <tr>\n",
       "      <th>agaist</th>\n",
       "      <td>0</td>\n",
       "      <td>0</td>\n",
       "      <td>0</td>\n",
       "      <td>0</td>\n",
       "      <td>0</td>\n",
       "      <td>0</td>\n",
       "      <td>0</td>\n",
       "      <td>0</td>\n",
       "      <td>0</td>\n",
       "      <td>0</td>\n",
       "      <td>...</td>\n",
       "      <td>0</td>\n",
       "      <td>0</td>\n",
       "      <td>0</td>\n",
       "      <td>0</td>\n",
       "      <td>0</td>\n",
       "      <td>0</td>\n",
       "      <td>0</td>\n",
       "      <td>1</td>\n",
       "      <td>0</td>\n",
       "      <td>0</td>\n",
       "    </tr>\n",
       "    <tr>\n",
       "      <th>attacks,</th>\n",
       "      <td>0</td>\n",
       "      <td>0</td>\n",
       "      <td>0</td>\n",
       "      <td>0</td>\n",
       "      <td>0</td>\n",
       "      <td>0</td>\n",
       "      <td>0</td>\n",
       "      <td>0</td>\n",
       "      <td>0</td>\n",
       "      <td>0</td>\n",
       "      <td>...</td>\n",
       "      <td>0</td>\n",
       "      <td>0</td>\n",
       "      <td>0</td>\n",
       "      <td>0</td>\n",
       "      <td>0</td>\n",
       "      <td>0</td>\n",
       "      <td>1</td>\n",
       "      <td>0</td>\n",
       "      <td>0</td>\n",
       "      <td>0</td>\n",
       "    </tr>\n",
       "    <tr>\n",
       "      <th>do?!</th>\n",
       "      <td>0</td>\n",
       "      <td>0</td>\n",
       "      <td>0</td>\n",
       "      <td>0</td>\n",
       "      <td>0</td>\n",
       "      <td>0</td>\n",
       "      <td>0</td>\n",
       "      <td>0</td>\n",
       "      <td>0</td>\n",
       "      <td>0</td>\n",
       "      <td>...</td>\n",
       "      <td>0</td>\n",
       "      <td>0</td>\n",
       "      <td>0</td>\n",
       "      <td>0</td>\n",
       "      <td>0</td>\n",
       "      <td>0</td>\n",
       "      <td>0</td>\n",
       "      <td>0</td>\n",
       "      <td>0</td>\n",
       "      <td>0</td>\n",
       "    </tr>\n",
       "    <tr>\n",
       "      <th>messgae</th>\n",
       "      <td>0</td>\n",
       "      <td>0</td>\n",
       "      <td>0</td>\n",
       "      <td>0</td>\n",
       "      <td>0</td>\n",
       "      <td>0</td>\n",
       "      <td>0</td>\n",
       "      <td>0</td>\n",
       "      <td>0</td>\n",
       "      <td>0</td>\n",
       "      <td>...</td>\n",
       "      <td>0</td>\n",
       "      <td>0</td>\n",
       "      <td>0</td>\n",
       "      <td>0</td>\n",
       "      <td>0</td>\n",
       "      <td>0</td>\n",
       "      <td>0</td>\n",
       "      <td>0</td>\n",
       "      <td>0</td>\n",
       "      <td>0</td>\n",
       "    </tr>\n",
       "  </tbody>\n",
       "</table>\n",
       "<p>30307 rows × 30307 columns</p>\n",
       "</div>"
      ],
      "text/plain": [
       "           from:  mangoe@cs  .umd  .edu  (charley  wingate)  subject:  \\\n",
       "from:          0         10    11    24         0         0         1   \n",
       "mangoe@cs     10          0    51    36         0         0         0   \n",
       ".umd          11         51     0    57        26         0         0   \n",
       ".edu          24         36    57     4        26        26        28   \n",
       "(charley       0          0    26    26         0        26        10   \n",
       "...          ...        ...   ...   ...       ...       ...       ...   \n",
       "failing        0          0     0     0         0         0         0   \n",
       "agaist         0          0     0     0         0         0         0   \n",
       "attacks,       0          0     0     0         0         0         0   \n",
       "do?!           0          0     0     0         0         0         0   \n",
       "messgae        0          0     0     0         0         0         0   \n",
       "\n",
       "           benediktine  metaphysics  lines:  ...  >point?  eveil  \\\n",
       "from:                0            0       1  ...        0      0   \n",
       "mangoe@cs            0            0       0  ...        0      0   \n",
       ".umd                 0            0       0  ...        0      0   \n",
       ".edu                 0            0      21  ...        0      0   \n",
       "(charley             0            0       0  ...        0      0   \n",
       "...                ...          ...     ...  ...      ...    ...   \n",
       "failing              0            0       0  ...        0      0   \n",
       "agaist               0            0       0  ...        0      0   \n",
       "attacks,             0            0       0  ...        0      0   \n",
       "do?!                 0            0       0  ...        0      0   \n",
       "messgae              0            0       0  ...        0      0   \n",
       "\n",
       "           counterproductive  bacause  don'  failing  agaist  attacks,  do?!  \\\n",
       "from:                      0        0     0        0       0         0     0   \n",
       "mangoe@cs                  0        0     0        0       0         0     0   \n",
       ".umd                       0        0     0        0       0         0     0   \n",
       ".edu                       0        0     0        0       0         0     0   \n",
       "(charley                   0        0     0        0       0         0     0   \n",
       "...                      ...      ...   ...      ...     ...       ...   ...   \n",
       "failing                    0        0     0        0       0         0     0   \n",
       "agaist                     0        0     0        0       0         1     0   \n",
       "attacks,                   0        0     0        0       1         0     0   \n",
       "do?!                       0        0     0        0       0         0     0   \n",
       "messgae                    0        0     0        0       0         0     0   \n",
       "\n",
       "           messgae  \n",
       "from:            0  \n",
       "mangoe@cs        0  \n",
       ".umd             0  \n",
       ".edu             0  \n",
       "(charley         0  \n",
       "...            ...  \n",
       "failing          0  \n",
       "agaist           0  \n",
       "attacks,         0  \n",
       "do?!             0  \n",
       "messgae          0  \n",
       "\n",
       "[30307 rows x 30307 columns]"
      ]
     },
     "execution_count": 13,
     "metadata": {},
     "output_type": "execute_result"
    }
   ],
   "source": [
    "co_matrix = create_co_matrix(corpus, vocab_size, window_size=2)\n",
    "df = pd.DataFrame(co_matrix, index=word_to_id.keys(), columns=word_to_id.keys())\n",
    "df"
   ]
  },
  {
   "cell_type": "code",
   "execution_count": 14,
   "metadata": {},
   "outputs": [],
   "source": [
    "def create_vectors(docs, df_co_matrix):\n",
    "    start = dt.now()\n",
    "    features = list(df_co_matrix.columns)\n",
    "    doclen = len(docs)\n",
    "    \n",
    "    vectors = []\n",
    "    for idx, doc in enumerate(docs):\n",
    "        doc = doc.lower()\n",
    "        doc = doc.replace('.', ' .')\n",
    "        doc = doc.replace('\"', '')\n",
    "        words = doc.split(' ')\n",
    "        unique_words = filter(lambda x: x in features, set(words))\n",
    "        \n",
    "        vector = df_co_matrix[unique_words]\n",
    "        vector = vector.apply(lambda x: x.sum(), axis=1)\n",
    "        vectors.append(vector.values)\n",
    "        print(\"\\r{:.4f}% : {}\".format((idx+1)/doclen, dt.now()-start), end=\"\")\n",
    "    \n",
    "    print(\"finished: {}\".format(dt.now() - start))\n",
    "    return np.array(vectors)"
   ]
  },
  {
   "cell_type": "code",
   "execution_count": 15,
   "metadata": {},
   "outputs": [
    {
     "name": "stdout",
     "output_type": "stream",
     "text": [
      "1.0000% : 0:43:04.166264finished: 0:43:04.166380\n"
     ]
    }
   ],
   "source": [
    "vectors_train = create_vectors(newsgroups_train.data, df)"
   ]
  },
  {
   "cell_type": "code",
   "execution_count": 16,
   "metadata": {},
   "outputs": [
    {
     "name": "stdout",
     "output_type": "stream",
     "text": [
      "newsgroup:  857\n",
      "train vectors:  857\n"
     ]
    }
   ],
   "source": [
    "print(\"newsgroup: \", len(newsgroups_train.data))\n",
    "print(\"train vectors: \", len(vectors_train))"
   ]
  },
  {
   "cell_type": "code",
   "execution_count": 17,
   "metadata": {},
   "outputs": [
    {
     "data": {
      "text/plain": [
       "array([[1216,  131,  181, ...,    1,    1,    3],\n",
       "       [1235,   61,   96, ...,    1,    3,    3],\n",
       "       [1248,   83,  128, ...,    1,    1,    3],\n",
       "       ...,\n",
       "       [1359,   81,  137, ...,    1,    2,    3],\n",
       "       [1284,   70,   92, ...,    0,    1,    2],\n",
       "       [1232,   81,  137, ...,    4,    3,    4]])"
      ]
     },
     "execution_count": 17,
     "metadata": {},
     "output_type": "execute_result"
    }
   ],
   "source": [
    "vectors_train"
   ]
  },
  {
   "cell_type": "markdown",
   "metadata": {},
   "source": [
    "テストデータも同様に処理を行う"
   ]
  },
  {
   "cell_type": "code",
   "execution_count": 18,
   "metadata": {},
   "outputs": [
    {
     "name": "stdout",
     "output_type": "stream",
     "text": [
      "1.0000% : 0:27:56.922663finished: 0:27:56.922779\n"
     ]
    }
   ],
   "source": [
    "vectors_test = create_vectors(newsgroups_test.data, df)"
   ]
  },
  {
   "cell_type": "markdown",
   "metadata": {},
   "source": [
    "#### 作成した文書ベクトルを学習させ、分類器を作成する"
   ]
  },
  {
   "cell_type": "code",
   "execution_count": 19,
   "metadata": {},
   "outputs": [],
   "source": [
    "from sklearn.naive_bayes import MultinomialNB\n",
    "from sklearn.metrics import accuracy_score, confusion_matrix"
   ]
  },
  {
   "cell_type": "code",
   "execution_count": 20,
   "metadata": {},
   "outputs": [],
   "source": [
    "train_X = vectors_train # 特徴ベクトル\n",
    "train_Y = newsgroups_train.target # 目的変数\n",
    "test_X = vectors_test\n",
    "test_Y = newsgroups_test.target"
   ]
  },
  {
   "cell_type": "markdown",
   "metadata": {},
   "source": [
    "学習"
   ]
  },
  {
   "cell_type": "code",
   "execution_count": 21,
   "metadata": {},
   "outputs": [
    {
     "data": {
      "text/plain": [
       "MultinomialNB(alpha=0.01, class_prior=None, fit_prior=True)"
      ]
     },
     "execution_count": 21,
     "metadata": {},
     "output_type": "execute_result"
    }
   ],
   "source": [
    "clf = MultinomialNB(alpha=.01)\n",
    "clf.fit(train_X, train_Y)"
   ]
  },
  {
   "cell_type": "markdown",
   "metadata": {},
   "source": [
    "推論"
   ]
  },
  {
   "cell_type": "code",
   "execution_count": 22,
   "metadata": {},
   "outputs": [
    {
     "data": {
      "text/plain": [
       "array([1, 0, 0, 1, 0, 0, 0, 1, 0, 1, 0, 0, 0, 1, 0, 1, 1, 1, 1, 0, 0, 0,\n",
       "       1, 1, 1, 1, 1, 1, 0, 1, 1, 1, 0, 0, 1, 1, 0, 1, 0, 0, 1, 0, 1, 1,\n",
       "       0, 0, 1, 0, 0, 0, 1, 0, 0, 1, 0, 0, 0, 0, 1, 1, 0, 0, 1, 1, 0, 0,\n",
       "       0, 0, 0, 1, 0, 0, 1, 1, 0, 0, 1, 1, 0, 1, 1, 0, 1, 0, 1, 0, 0, 0,\n",
       "       1, 0, 0, 0, 0, 0, 0, 0, 0, 1, 1, 0, 0, 0, 0, 0, 1, 0, 1, 0, 1, 0,\n",
       "       1, 0, 1, 1, 0, 0, 1, 1, 1, 0, 1, 0, 1, 0, 0, 1, 0, 0, 0, 0, 0, 1,\n",
       "       1, 0, 0, 0, 0, 1, 0, 0, 0, 1, 1, 1, 0, 1, 1, 1, 1, 0, 1, 0, 1, 1,\n",
       "       1, 1, 1, 1, 0, 1, 1, 0, 1, 1, 0, 0, 0, 0, 1, 1, 0, 0, 1, 0, 0, 1,\n",
       "       0, 1, 0, 0, 0, 0, 1, 0, 0, 0, 0, 1, 0, 1, 0, 0, 0, 0, 0, 1, 1, 0,\n",
       "       1, 0, 1, 0, 0, 1, 1, 1, 0, 1, 0, 1, 1, 1, 0, 0, 1, 1, 1, 0, 1, 0,\n",
       "       1, 1, 0, 0, 1, 1, 0, 1, 0, 0, 1, 1, 0, 0, 0, 1, 1, 1, 0, 1, 1, 1,\n",
       "       0, 1, 0, 0, 1, 1, 0, 0, 1, 1, 1, 0, 0, 1, 1, 0, 1, 0, 0, 0, 1, 1,\n",
       "       0, 1, 1, 0, 0, 1, 1, 0, 1, 1, 0, 1, 0, 0, 0, 1, 0, 0, 1, 0, 0, 0,\n",
       "       0, 1, 1, 1, 0, 0, 0, 0, 0, 1, 1, 0, 0, 1, 1, 1, 1, 1, 0, 1, 0, 1,\n",
       "       0, 1, 1, 1, 0, 0, 1, 0, 1, 0, 1, 0, 1, 1, 1, 0, 1, 1, 0, 1, 0, 0,\n",
       "       0, 0, 1, 1, 0, 0, 0, 1, 0, 0, 1, 0, 1, 0, 0, 1, 0, 0, 0, 0, 1, 1,\n",
       "       1, 0, 0, 1, 0, 1, 0, 0, 0, 0, 0, 0, 0, 0, 1, 0, 0, 1, 0, 1, 1, 0,\n",
       "       0, 1, 1, 0, 1, 1, 0, 0, 0, 0, 0, 0, 1, 1, 0, 1, 1, 1, 0, 1, 1, 1,\n",
       "       0, 1, 1, 0, 1, 1, 1, 0, 1, 1, 1, 1, 0, 1, 1, 1, 1, 0, 0, 1, 0, 1,\n",
       "       1, 0, 1, 0, 1, 1, 0, 1, 0, 0, 1, 1, 0, 1, 0, 0, 1, 0, 1, 0, 0, 0,\n",
       "       0, 1, 0, 0, 1, 0, 0, 0, 0, 1, 0, 0, 1, 1, 1, 0, 0, 0, 1, 1, 1, 1,\n",
       "       0, 1, 1, 0, 0, 0, 1, 1, 0, 1, 1, 1, 0, 0, 1, 1, 0, 0, 0, 1, 0, 1,\n",
       "       0, 1, 0, 0, 0, 0, 0, 0, 1, 0, 0, 1, 1, 0, 0, 1, 0, 1, 1, 1, 0, 0,\n",
       "       0, 1, 1, 1, 1, 1, 1, 1, 0, 1, 0, 0, 1, 1, 1, 1, 1, 1, 1, 1, 1, 1,\n",
       "       1, 0, 1, 1, 0, 0, 0, 0, 1, 0, 0, 0, 0, 1, 1, 0, 1, 1, 0, 0, 0, 1,\n",
       "       0, 1, 0, 0, 0, 1, 1, 0, 1, 0, 0, 0, 0, 0, 1, 0, 0, 1, 0, 1])"
      ]
     },
     "execution_count": 22,
     "metadata": {},
     "output_type": "execute_result"
    }
   ],
   "source": [
    "pred_Y = clf.predict(test_X)\n",
    "pred_Y"
   ]
  },
  {
   "cell_type": "code",
   "execution_count": 23,
   "metadata": {},
   "outputs": [
    {
     "data": {
      "text/plain": [
       "0.5719298245614035"
      ]
     },
     "execution_count": 23,
     "metadata": {},
     "output_type": "execute_result"
    }
   ],
   "source": [
    "accuracy_score(test_Y, pred_Y)"
   ]
  },
  {
   "cell_type": "code",
   "execution_count": 24,
   "metadata": {},
   "outputs": [],
   "source": [
    "acc = []\n",
    "for idx in range(0, len(target_categories)):\n",
    "    vec = confusion_matrix(test_Y, pred_Y)[idx]\n",
    "    acc.append(vec[idx]/sum(vec))"
   ]
  },
  {
   "cell_type": "code",
   "execution_count": 25,
   "metadata": {},
   "outputs": [
    {
     "data": {
      "image/png": "[encoded data removed]",
      "text/plain": [
       "<Figure size 792x576 with 1 Axes>"
      ]
     },
     "metadata": {
      "needs_background": "light"
     },
     "output_type": "display_data"
    }
   ],
   "source": [
    "plt.figure(figsize=(11,8))\n",
    "plt.bar(range(0,len(target_categories)), acc, tick_label=target_categories)\n",
    "plt.xticks(fontsize=12)\n",
    "plt.yticks(fontsize=12)\n",
    "plt.xlabel(\"Class\", fontsize=16)\n",
    "plt.ylabel(\"Accuracy\", fontsize=16)\n",
    "\n",
    "for x, y in zip(range(0,20), acc):\n",
    "    plt.text(x, y, f\"{y:.3f}\", ha='center', va='bottom')\n",
    "\n",
    "plt.show()"
   ]
  },
  {
   "cell_type": "code",
   "execution_count": 26,
   "metadata": {},
   "outputs": [
    {
     "data": {
      "image/png": "[encoded data removed]",
      "text/plain": [
       "<Figure size 1152x648 with 2 Axes>"
      ]
     },
     "metadata": {
      "needs_background": "light"
     },
     "output_type": "display_data"
    }
   ],
   "source": [
    "fig, ax = plt.subplots(figsize=(16,9))\n",
    "sns.heatmap(confusion_matrix(test_Y, pred_Y),\n",
    "            xticklabels=target_categories,\n",
    "            yticklabels=target_categories,\n",
    "            annot=True, fmt='d', square=True, ax=ax)\n",
    "ax.set_ylim(len(target_categories), 0)\n",
    "plt.show()"
   ]
  },
  {
   "cell_type": "code",
   "execution_count": null,
   "metadata": {},
   "outputs": [],
   "source": []
  }
 ],
 "metadata": {
  "kernelspec": {
   "display_name": "Python 3",
   "language": "python",
   "name": "python3"
  },
  "language_info": {
   "codemirror_mode": {
    "name": "ipython",
    "version": 3
   },
   "file_extension": ".py",
   "mimetype": "text/x-python",
   "name": "python",
   "nbconvert_exporter": "python",
   "pygments_lexer": "ipython3",
   "version": "3.7.4"
  }
 },
 "nbformat": 4,
 "nbformat_minor": 4
}
